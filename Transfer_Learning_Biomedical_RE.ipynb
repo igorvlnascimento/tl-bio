{
  "nbformat": 4,
  "nbformat_minor": 0,
  "metadata": {
    "colab": {
      "name": "Transfer_Learning_Biomedical_RE.ipynb",
      "provenance": [],
      "collapsed_sections": [],
      "toc_visible": true,
      "authorship_tag": "ABX9TyPieakAHrNQmN6VBd3TXuB8",
      "include_colab_link": true
    },
    "kernelspec": {
      "name": "python3",
      "display_name": "Python 3"
    },
    "language_info": {
      "name": "python"
    },
    "accelerator": "GPU"
  },
  "cells": [
    {
      "cell_type": "markdown",
      "metadata": {
        "id": "view-in-github",
        "colab_type": "text"
      },
      "source": [
        "<a href=\"https://colab.research.google.com/github/igorvlnascimento/tl-bio/blob/main/Transfer_Learning_Biomedical_RE.ipynb\" target=\"_parent\"><img src=\"https://colab.research.google.com/assets/colab-badge.svg\" alt=\"Open In Colab\"/></a>"
      ]
    },
    {
      "cell_type": "code",
      "metadata": {
        "colab": {
          "base_uri": "https://localhost:8080/"
        },
        "id": "E8r7Men4Ap-M",
        "outputId": "84c7cb4d-4d96-4df9-c799-875cdab92df2"
      },
      "source": [
        "cd sample_data/"
      ],
      "execution_count": 1,
      "outputs": [
        {
          "output_type": "stream",
          "text": [
            "/content/sample_data\n"
          ],
          "name": "stdout"
        }
      ]
    },
    {
      "cell_type": "code",
      "metadata": {
        "colab": {
          "base_uri": "https://localhost:8080/"
        },
        "id": "MAOcbI2yrYlC",
        "outputId": "c6eb35ef-6f7b-42b0-b5c9-f645fa1be9f7"
      },
      "source": [
        "am"
      ],
      "execution_count": 2,
      "outputs": [
        {
          "output_type": "stream",
          "text": [
            "Cloning into 'Transfer-Learning-Architectures-for-Biomedical-Relation-Extraction'...\n",
            "remote: Enumerating objects: 4, done.\u001b[K\n",
            "remote: Counting objects: 100% (4/4), done.\u001b[K\n",
            "remote: Compressing objects: 100% (4/4), done.\u001b[K\n",
            "remote: Total 3367 (delta 0), reused 4 (delta 0), pack-reused 3363\u001b[K\n",
            "Receiving objects: 100% (3367/3367), 12.22 MiB | 34.96 MiB/s, done.\n",
            "Resolving deltas: 100% (10/10), done.\n"
          ],
          "name": "stdout"
        }
      ]
    },
    {
      "cell_type": "code",
      "metadata": {
        "colab": {
          "base_uri": "https://localhost:8080/"
        },
        "id": "zH1gswl0sMFO",
        "outputId": "65a69f2c-e590-4341-a8ca-bbcf4c6ea8a3"
      },
      "source": [
        "cd Transfer-Learning-Architectures-for-Biomedical-Relation-Extraction/"
      ],
      "execution_count": 3,
      "outputs": [
        {
          "output_type": "stream",
          "text": [
            "/content/sample_data/Transfer-Learning-Architectures-for-Biomedical-Relation-Extraction\n"
          ],
          "name": "stdout"
        }
      ]
    },
    {
      "cell_type": "code",
      "metadata": {
        "colab": {
          "base_uri": "https://localhost:8080/"
        },
        "id": "au7B_OA2FUSa",
        "outputId": "5cacea9b-ae21-4654-a9b3-28e262cd8096"
      },
      "source": [
        "!pip install pytorch_pretrained_bert\n",
        "!pip install transformers\n",
        "!pip install pytorch_transformers\n",
        "!pip install jsonlines"
      ],
      "execution_count": 4,
      "outputs": [
        {
          "output_type": "stream",
          "text": [
            "Collecting pytorch_pretrained_bert\n",
            "\u001b[?25l  Downloading https://files.pythonhosted.org/packages/d7/e0/c08d5553b89973d9a240605b9c12404bcf8227590de62bae27acbcfe076b/pytorch_pretrained_bert-0.6.2-py3-none-any.whl (123kB)\n",
            "\r\u001b[K     |██▋                             | 10kB 22.1MB/s eta 0:00:01\r\u001b[K     |█████▎                          | 20kB 27.5MB/s eta 0:00:01\r\u001b[K     |████████                        | 30kB 22.7MB/s eta 0:00:01\r\u001b[K     |██████████▋                     | 40kB 26.6MB/s eta 0:00:01\r\u001b[K     |█████████████▎                  | 51kB 24.9MB/s eta 0:00:01\r\u001b[K     |███████████████▉                | 61kB 27.5MB/s eta 0:00:01\r\u001b[K     |██████████████████▌             | 71kB 18.2MB/s eta 0:00:01\r\u001b[K     |█████████████████████▏          | 81kB 19.1MB/s eta 0:00:01\r\u001b[K     |███████████████████████▉        | 92kB 18.1MB/s eta 0:00:01\r\u001b[K     |██████████████████████████▌     | 102kB 18.0MB/s eta 0:00:01\r\u001b[K     |█████████████████████████████▏  | 112kB 18.0MB/s eta 0:00:01\r\u001b[K     |███████████████████████████████▊| 122kB 18.0MB/s eta 0:00:01\r\u001b[K     |████████████████████████████████| 133kB 18.0MB/s \n",
            "\u001b[?25hRequirement already satisfied: numpy in /usr/local/lib/python3.7/dist-packages (from pytorch_pretrained_bert) (1.19.5)\n",
            "Collecting boto3\n",
            "\u001b[?25l  Downloading https://files.pythonhosted.org/packages/f2/bd/3f9cc87a8faa561903644ec6ef7e7e408ca3640e77c5944124ad6adbaecd/boto3-1.17.39-py2.py3-none-any.whl (131kB)\n",
            "\u001b[K     |████████████████████████████████| 133kB 31.8MB/s \n",
            "\u001b[?25hRequirement already satisfied: requests in /usr/local/lib/python3.7/dist-packages (from pytorch_pretrained_bert) (2.23.0)\n",
            "Requirement already satisfied: regex in /usr/local/lib/python3.7/dist-packages (from pytorch_pretrained_bert) (2019.12.20)\n",
            "Requirement already satisfied: torch>=0.4.1 in /usr/local/lib/python3.7/dist-packages (from pytorch_pretrained_bert) (1.8.0+cu101)\n",
            "Requirement already satisfied: tqdm in /usr/local/lib/python3.7/dist-packages (from pytorch_pretrained_bert) (4.41.1)\n",
            "Collecting botocore<1.21.0,>=1.20.39\n",
            "\u001b[?25l  Downloading https://files.pythonhosted.org/packages/72/ad/abdc982cb695a20764df007a2d7cb0ac8964c9591fd014006e40334e4a74/botocore-1.20.39-py2.py3-none-any.whl (7.3MB)\n",
            "\u001b[K     |████████████████████████████████| 7.3MB 55.3MB/s \n",
            "\u001b[?25hCollecting s3transfer<0.4.0,>=0.3.0\n",
            "\u001b[?25l  Downloading https://files.pythonhosted.org/packages/98/14/0b4be62b65c52d6d1c442f24e02d2a9889a73d3c352002e14c70f84a679f/s3transfer-0.3.6-py2.py3-none-any.whl (73kB)\n",
            "\u001b[K     |████████████████████████████████| 81kB 12.1MB/s \n",
            "\u001b[?25hCollecting jmespath<1.0.0,>=0.7.1\n",
            "  Downloading https://files.pythonhosted.org/packages/07/cb/5f001272b6faeb23c1c9e0acc04d48eaaf5c862c17709d20e3469c6e0139/jmespath-0.10.0-py2.py3-none-any.whl\n",
            "Requirement already satisfied: idna<3,>=2.5 in /usr/local/lib/python3.7/dist-packages (from requests->pytorch_pretrained_bert) (2.10)\n",
            "Requirement already satisfied: urllib3!=1.25.0,!=1.25.1,<1.26,>=1.21.1 in /usr/local/lib/python3.7/dist-packages (from requests->pytorch_pretrained_bert) (1.24.3)\n",
            "Requirement already satisfied: certifi>=2017.4.17 in /usr/local/lib/python3.7/dist-packages (from requests->pytorch_pretrained_bert) (2020.12.5)\n",
            "Requirement already satisfied: chardet<4,>=3.0.2 in /usr/local/lib/python3.7/dist-packages (from requests->pytorch_pretrained_bert) (3.0.4)\n",
            "Requirement already satisfied: typing-extensions in /usr/local/lib/python3.7/dist-packages (from torch>=0.4.1->pytorch_pretrained_bert) (3.7.4.3)\n",
            "Requirement already satisfied: python-dateutil<3.0.0,>=2.1 in /usr/local/lib/python3.7/dist-packages (from botocore<1.21.0,>=1.20.39->boto3->pytorch_pretrained_bert) (2.8.1)\n",
            "Requirement already satisfied: six>=1.5 in /usr/local/lib/python3.7/dist-packages (from python-dateutil<3.0.0,>=2.1->botocore<1.21.0,>=1.20.39->boto3->pytorch_pretrained_bert) (1.15.0)\n",
            "\u001b[31mERROR: botocore 1.20.39 has requirement urllib3<1.27,>=1.25.4, but you'll have urllib3 1.24.3 which is incompatible.\u001b[0m\n",
            "Installing collected packages: jmespath, botocore, s3transfer, boto3, pytorch-pretrained-bert\n",
            "Successfully installed boto3-1.17.39 botocore-1.20.39 jmespath-0.10.0 pytorch-pretrained-bert-0.6.2 s3transfer-0.3.6\n",
            "Collecting transformers\n",
            "\u001b[?25l  Downloading https://files.pythonhosted.org/packages/ed/d5/f4157a376b8a79489a76ce6cfe147f4f3be1e029b7144fa7b8432e8acb26/transformers-4.4.2-py3-none-any.whl (2.0MB)\n",
            "\u001b[K     |████████████████████████████████| 2.0MB 20.4MB/s \n",
            "\u001b[?25hRequirement already satisfied: regex!=2019.12.17 in /usr/local/lib/python3.7/dist-packages (from transformers) (2019.12.20)\n",
            "Requirement already satisfied: numpy>=1.17 in /usr/local/lib/python3.7/dist-packages (from transformers) (1.19.5)\n",
            "Requirement already satisfied: packaging in /usr/local/lib/python3.7/dist-packages (from transformers) (20.9)\n",
            "Requirement already satisfied: requests in /usr/local/lib/python3.7/dist-packages (from transformers) (2.23.0)\n",
            "Collecting sacremoses\n",
            "\u001b[?25l  Downloading https://files.pythonhosted.org/packages/7d/34/09d19aff26edcc8eb2a01bed8e98f13a1537005d31e95233fd48216eed10/sacremoses-0.0.43.tar.gz (883kB)\n",
            "\u001b[K     |████████████████████████████████| 890kB 52.7MB/s \n",
            "\u001b[?25hCollecting tokenizers<0.11,>=0.10.1\n",
            "\u001b[?25l  Downloading https://files.pythonhosted.org/packages/71/23/2ddc317b2121117bf34dd00f5b0de194158f2a44ee2bf5e47c7166878a97/tokenizers-0.10.1-cp37-cp37m-manylinux2010_x86_64.whl (3.2MB)\n",
            "\u001b[K     |████████████████████████████████| 3.2MB 51.7MB/s \n",
            "\u001b[?25hRequirement already satisfied: tqdm>=4.27 in /usr/local/lib/python3.7/dist-packages (from transformers) (4.41.1)\n",
            "Requirement already satisfied: filelock in /usr/local/lib/python3.7/dist-packages (from transformers) (3.0.12)\n",
            "Requirement already satisfied: importlib-metadata; python_version < \"3.8\" in /usr/local/lib/python3.7/dist-packages (from transformers) (3.7.2)\n",
            "Requirement already satisfied: pyparsing>=2.0.2 in /usr/local/lib/python3.7/dist-packages (from packaging->transformers) (2.4.7)\n",
            "Requirement already satisfied: idna<3,>=2.5 in /usr/local/lib/python3.7/dist-packages (from requests->transformers) (2.10)\n",
            "Requirement already satisfied: urllib3!=1.25.0,!=1.25.1,<1.26,>=1.21.1 in /usr/local/lib/python3.7/dist-packages (from requests->transformers) (1.24.3)\n",
            "Requirement already satisfied: certifi>=2017.4.17 in /usr/local/lib/python3.7/dist-packages (from requests->transformers) (2020.12.5)\n",
            "Requirement already satisfied: chardet<4,>=3.0.2 in /usr/local/lib/python3.7/dist-packages (from requests->transformers) (3.0.4)\n",
            "Requirement already satisfied: six in /usr/local/lib/python3.7/dist-packages (from sacremoses->transformers) (1.15.0)\n",
            "Requirement already satisfied: click in /usr/local/lib/python3.7/dist-packages (from sacremoses->transformers) (7.1.2)\n",
            "Requirement already satisfied: joblib in /usr/local/lib/python3.7/dist-packages (from sacremoses->transformers) (1.0.1)\n",
            "Requirement already satisfied: typing-extensions>=3.6.4; python_version < \"3.8\" in /usr/local/lib/python3.7/dist-packages (from importlib-metadata; python_version < \"3.8\"->transformers) (3.7.4.3)\n",
            "Requirement already satisfied: zipp>=0.5 in /usr/local/lib/python3.7/dist-packages (from importlib-metadata; python_version < \"3.8\"->transformers) (3.4.1)\n",
            "Building wheels for collected packages: sacremoses\n",
            "  Building wheel for sacremoses (setup.py) ... \u001b[?25l\u001b[?25hdone\n",
            "  Created wheel for sacremoses: filename=sacremoses-0.0.43-cp37-none-any.whl size=893262 sha256=99fb4e6553266decc4e77fe61a6bfd74f226412bd8015d3957c70bf4626d79c2\n",
            "  Stored in directory: /root/.cache/pip/wheels/29/3c/fd/7ce5c3f0666dab31a50123635e6fb5e19ceb42ce38d4e58f45\n",
            "Successfully built sacremoses\n",
            "Installing collected packages: sacremoses, tokenizers, transformers\n",
            "Successfully installed sacremoses-0.0.43 tokenizers-0.10.1 transformers-4.4.2\n",
            "Collecting pytorch_transformers\n",
            "\u001b[?25l  Downloading https://files.pythonhosted.org/packages/a3/b7/d3d18008a67e0b968d1ab93ad444fc05699403fa662f634b2f2c318a508b/pytorch_transformers-1.2.0-py3-none-any.whl (176kB)\n",
            "\u001b[K     |████████████████████████████████| 184kB 18.1MB/s \n",
            "\u001b[?25hRequirement already satisfied: regex in /usr/local/lib/python3.7/dist-packages (from pytorch_transformers) (2019.12.20)\n",
            "Requirement already satisfied: numpy in /usr/local/lib/python3.7/dist-packages (from pytorch_transformers) (1.19.5)\n",
            "Requirement already satisfied: torch>=1.0.0 in /usr/local/lib/python3.7/dist-packages (from pytorch_transformers) (1.8.0+cu101)\n",
            "Requirement already satisfied: sacremoses in /usr/local/lib/python3.7/dist-packages (from pytorch_transformers) (0.0.43)\n",
            "Requirement already satisfied: requests in /usr/local/lib/python3.7/dist-packages (from pytorch_transformers) (2.23.0)\n",
            "Collecting sentencepiece\n",
            "\u001b[?25l  Downloading https://files.pythonhosted.org/packages/f5/99/e0808cb947ba10f575839c43e8fafc9cc44e4a7a2c8f79c60db48220a577/sentencepiece-0.1.95-cp37-cp37m-manylinux2014_x86_64.whl (1.2MB)\n",
            "\u001b[K     |████████████████████████████████| 1.2MB 43.0MB/s \n",
            "\u001b[?25hRequirement already satisfied: boto3 in /usr/local/lib/python3.7/dist-packages (from pytorch_transformers) (1.17.39)\n",
            "Requirement already satisfied: tqdm in /usr/local/lib/python3.7/dist-packages (from pytorch_transformers) (4.41.1)\n",
            "Requirement already satisfied: typing-extensions in /usr/local/lib/python3.7/dist-packages (from torch>=1.0.0->pytorch_transformers) (3.7.4.3)\n",
            "Requirement already satisfied: joblib in /usr/local/lib/python3.7/dist-packages (from sacremoses->pytorch_transformers) (1.0.1)\n",
            "Requirement already satisfied: six in /usr/local/lib/python3.7/dist-packages (from sacremoses->pytorch_transformers) (1.15.0)\n",
            "Requirement already satisfied: click in /usr/local/lib/python3.7/dist-packages (from sacremoses->pytorch_transformers) (7.1.2)\n",
            "Requirement already satisfied: chardet<4,>=3.0.2 in /usr/local/lib/python3.7/dist-packages (from requests->pytorch_transformers) (3.0.4)\n",
            "Requirement already satisfied: idna<3,>=2.5 in /usr/local/lib/python3.7/dist-packages (from requests->pytorch_transformers) (2.10)\n",
            "Requirement already satisfied: urllib3!=1.25.0,!=1.25.1,<1.26,>=1.21.1 in /usr/local/lib/python3.7/dist-packages (from requests->pytorch_transformers) (1.24.3)\n",
            "Requirement already satisfied: certifi>=2017.4.17 in /usr/local/lib/python3.7/dist-packages (from requests->pytorch_transformers) (2020.12.5)\n",
            "Requirement already satisfied: jmespath<1.0.0,>=0.7.1 in /usr/local/lib/python3.7/dist-packages (from boto3->pytorch_transformers) (0.10.0)\n",
            "Requirement already satisfied: s3transfer<0.4.0,>=0.3.0 in /usr/local/lib/python3.7/dist-packages (from boto3->pytorch_transformers) (0.3.6)\n",
            "Requirement already satisfied: botocore<1.21.0,>=1.20.39 in /usr/local/lib/python3.7/dist-packages (from boto3->pytorch_transformers) (1.20.39)\n",
            "Requirement already satisfied: python-dateutil<3.0.0,>=2.1 in /usr/local/lib/python3.7/dist-packages (from botocore<1.21.0,>=1.20.39->boto3->pytorch_transformers) (2.8.1)\n",
            "Installing collected packages: sentencepiece, pytorch-transformers\n",
            "Successfully installed pytorch-transformers-1.2.0 sentencepiece-0.1.95\n",
            "Collecting jsonlines\n",
            "  Downloading https://files.pythonhosted.org/packages/d4/58/06f430ff7607a2929f80f07bfd820acbc508a4e977542fefcc522cde9dff/jsonlines-2.0.0-py3-none-any.whl\n",
            "Installing collected packages: jsonlines\n",
            "Successfully installed jsonlines-2.0.0\n"
          ],
          "name": "stdout"
        }
      ]
    },
    {
      "cell_type": "code",
      "metadata": {
        "colab": {
          "base_uri": "https://localhost:8080/"
        },
        "id": "Xw3sjjgYse8m",
        "outputId": "df2f267f-8cea-4daf-a914-95b03581be54"
      },
      "source": [
        "!python main.py -h"
      ],
      "execution_count": 5,
      "outputs": [
        {
          "output_type": "stream",
          "text": [
            "usage: main.py [-h] [-ft FINE_TUNING] [-bert {bert,biobert,scibert}]\n",
            "               [-frozen_model {RNN,CNN,CNN_RNN,CNN_RNN_parell}]\n",
            "               [-fine_tuning_model {MLP,CNN,CNN_seg}] [-F_type {micro,macro}]\n",
            "               [-corpus {chemprot,pgx}] [-lr LR] [-num_ep NUM_EP]\n",
            "\n",
            "optional arguments:\n",
            "  -h, --help            show this help message and exit\n",
            "  -ft FINE_TUNING       Transfer learning strategies : True for fine tuning /\n",
            "                        False for frozen\n",
            "  -bert {bert,biobert,scibert}\n",
            "                        Bert model : bert, biobert, scibert\n",
            "  -frozen_model {RNN,CNN,CNN_RNN,CNN_RNN_parell}\n",
            "                        The frozen architecture : RNN (LSTM), CNN (MCNN) ,\n",
            "                        CNN_RNN (LSTM_MCNN L.) , CNN_RNN_parell (LSTM_MCNN P.)\n",
            "  -fine_tuning_model {MLP,CNN,CNN_seg}\n",
            "                        The fine tuning architecture : MLP , CNN (MCNN) ,\n",
            "                        CNN_seg\n",
            "  -F_type {micro,macro}\n",
            "                        Type of F-mesure avg (micro,macro)\n",
            "  -corpus {chemprot,pgx}\n",
            "                        corpus (chemprot, pgx)\n",
            "  -lr LR                learning rate ( 0.001 for frozen, 5e-5 / 3e-5 for\n",
            "                        fine-tune\n",
            "  -num_ep NUM_EP        number of epochs ( 5/8 : for fine tuning ) / (30/ 60)\n",
            "                        for frozen\n"
          ],
          "name": "stdout"
        }
      ]
    },
    {
      "cell_type": "code",
      "metadata": {
        "colab": {
          "base_uri": "https://localhost:8080/"
        },
        "id": "wMfyufGetVwj",
        "outputId": "d10826b6-2467-4480-9a78-e15eeb87d0c1"
      },
      "source": [
        "!gdown https://drive.google.com/uc?id=1OCpJn4k2986cwImRLMUCq2F6spUpt2t0\n",
        "!unzip biobert_v1.1_pubmed.zip"
      ],
      "execution_count": 6,
      "outputs": [
        {
          "output_type": "stream",
          "text": [
            "Downloading...\n",
            "From: https://drive.google.com/uc?id=1OCpJn4k2986cwImRLMUCq2F6spUpt2t0\n",
            "To: /content/sample_data/Transfer-Learning-Architectures-for-Biomedical-Relation-Extraction/biobert_v1.1_pubmed.zip\n",
            "804MB [00:07, 114MB/s] \n",
            "Archive:  biobert_v1.1_pubmed.zip\n",
            "   creating: biobert_v1.1_pubmed/\n",
            "  inflating: biobert_v1.1_pubmed/config.json  \n",
            "  inflating: biobert_v1.1_pubmed/model.ckpt-1000000.data-00000-of-00001  \n",
            "  inflating: biobert_v1.1_pubmed/model.ckpt-1000000.index  \n",
            "  inflating: biobert_v1.1_pubmed/model.ckpt-1000000.meta  \n",
            "  inflating: biobert_v1.1_pubmed/pytorch_model.bin  \n",
            "  inflating: biobert_v1.1_pubmed/vocab.txt  \n"
          ],
          "name": "stdout"
        }
      ]
    },
    {
      "cell_type": "code",
      "metadata": {
        "colab": {
          "base_uri": "https://localhost:8080/"
        },
        "id": "d-3UbcyjtokO",
        "outputId": "3548a39e-51bc-4b38-ca13-12669475fe59"
      },
      "source": [
        "!python main.py -ft True -bert scibert -fine_tuning_model CNN_seg -F_type macro -corpus pgx -lr 3e-5 -num_ep 8"
      ],
      "execution_count": 16,
      "outputs": [
        {
          "output_type": "stream",
          "text": [
            "Traceback (most recent call last):\n",
            "  File \"main.py\", line 2, in <module>\n",
            "  File \"/content/sample_data/Transfer-Learning-Architectures-for-Biomedical-Relation-Extraction/Cross_validation.py\", line 5, in <module>\n",
            "    from Train import *\n",
            "  File \"/content/sample_data/Transfer-Learning-Architectures-for-Biomedical-Relation-Extraction/Train.py\", line 3, in <module>\n",
            "    import Models\n",
            "  File \"/content/sample_data/Transfer-Learning-Architectures-for-Biomedical-Relation-Extraction/Models.py\", line 5, in <module>\n",
            "    import Bert\n",
            "  File \"/content/sample_data/Transfer-Learning-Architectures-for-Biomedical-Relation-Extraction/Bert.py\", line 2, in <module>\n",
            "    from transformers import AutoTokenizer, AutoModel, AutoConfig\n",
            "  File \"<frozen importlib._bootstrap>\", line 1032, in _handle_fromlist\n",
            "  File \"/usr/local/lib/python3.7/dist-packages/transformers/__init__.py\", line 2310, in __getattr__\n",
            "    return super().__getattr__(name)\n",
            "  File \"/usr/local/lib/python3.7/dist-packages/transformers/file_utils.py\", line 1661, in __getattr__\n",
            "    value = getattr(module, name)\n",
            "  File \"/usr/local/lib/python3.7/dist-packages/transformers/file_utils.py\", line 1660, in __getattr__\n",
            "    module = self._get_module(self._class_to_module[name])\n",
            "  File \"/usr/local/lib/python3.7/dist-packages/transformers/models/auto/__init__.py\", line 160, in _get_module\n",
            "    return importlib.import_module(\".\" + module_name, self.__name__)\n",
            "  File \"/usr/lib/python3.7/importlib/__init__.py\", line 127, in import_module\n",
            "    return _bootstrap._gcd_import(name[level:], package, level)\n",
            "  File \"/usr/local/lib/python3.7/dist-packages/transformers/models/auto/tokenization_auto.py\", line 23, in <module>\n",
            "    from ..bart.tokenization_bart import BartTokenizer\n",
            "  File \"/usr/local/lib/python3.7/dist-packages/transformers/models/bart/tokenization_bart.py\", line 17, in <module>\n",
            "    from ..roberta.tokenization_roberta import RobertaTokenizer\n",
            "  File \"<frozen importlib._bootstrap>\", line 983, in _find_and_load\n",
            "  File \"<frozen importlib._bootstrap>\", line 967, in _find_and_load_unlocked\n",
            "  File \"<frozen importlib._bootstrap>\", line 670, in _load_unlocked\n",
            "  File \"<frozen importlib._bootstrap>\", line 589, in module_from_spec\n",
            "  File \"<frozen importlib._bootstrap>\", line 568, in _init_module_attrs\n",
            "  File \"<frozen importlib._bootstrap>\", line 409, in cached\n",
            "  File \"<frozen importlib._bootstrap_external>\", line 372, in _get_cached\n",
            "  File \"<frozen importlib._bootstrap_external>\", line 296, in cache_from_source\n",
            "KeyboardInterrupt\n"
          ],
          "name": "stdout"
        }
      ]
    }
  ]
}